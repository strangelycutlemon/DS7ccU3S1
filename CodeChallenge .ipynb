{
 "cells": [
  {
   "cell_type": "code",
   "execution_count": 2,
   "metadata": {},
   "outputs": [],
   "source": [
    "import time"
   ]
  },
  {
   "cell_type": "markdown",
   "metadata": {},
   "source": [
    "- There is a data dir which contains two txt files\n",
    "- Use your GoogleFu to figure out how to use Python to open these files \n",
    "- Save \"books_published \"books_published_last_two_years.txt\" in the variable \"recent_books\"\n",
    "- Save \"all_coding_books.txt\" in the variable \"coding_books\""
   ]
  },
  {
   "cell_type": "code",
   "execution_count": 3,
   "metadata": {},
   "outputs": [],
   "source": [
    "# Your code here\n",
    "\n",
    "import os\n",
    "notebook_path = os.path.abspath(\"CodeChallenge.ipynb\")\n",
    "recent_books_path = os.path.join(os.path.dirname(notebook_path), \"data\\\\books_published_last_two_years.txt\")\n",
    "all_coding_books_path = os.path.join(os.path.dirname(notebook_path), \"data\\\\all_coding_books.txt\")"
   ]
  },
  {
   "cell_type": "code",
   "execution_count": 4,
   "metadata": {},
   "outputs": [
    {
     "data": {
      "text/plain": [
       "'C:\\\\Users\\\\Cooper\\\\learning\\\\LS\\\\DS7ccU3S1\\\\data\\\\books_published_last_two_years.txt'"
      ]
     },
     "execution_count": 4,
     "metadata": {},
     "output_type": "execute_result"
    }
   ],
   "source": [
    "recent_books_path"
   ]
  },
  {
   "cell_type": "code",
   "execution_count": 5,
   "metadata": {},
   "outputs": [
    {
     "data": {
      "text/plain": [
       "'C:\\\\Users\\\\Cooper\\\\learning\\\\LS\\\\DS7ccU3S1\\\\data\\\\all_coding_books.txt'"
      ]
     },
     "execution_count": 5,
     "metadata": {},
     "output_type": "execute_result"
    }
   ],
   "source": [
    "all_coding_books_path"
   ]
  },
  {
   "cell_type": "code",
   "execution_count": 6,
   "metadata": {},
   "outputs": [],
   "source": [
    "with open(recent_books_path, 'r') as f_open:\n",
    "    recent_books = f_open.read()"
   ]
  },
  {
   "cell_type": "code",
   "execution_count": 7,
   "metadata": {},
   "outputs": [],
   "source": [
    "with open(all_coding_books_path, 'r') as f_open:\n",
    "    all_coding_books = f_open.read()"
   ]
  },
  {
   "cell_type": "markdown",
   "metadata": {},
   "source": [
    "Print how many books each file has"
   ]
  },
  {
   "cell_type": "code",
   "execution_count": 8,
   "metadata": {},
   "outputs": [
    {
     "name": "stdout",
     "output_type": "stream",
     "text": [
      "24158\n"
     ]
    }
   ],
   "source": [
    "with open(recent_books_path, 'r') as f_open:\n",
    "    lines = len(f_open.readlines())\n",
    "    \n",
    "print(lines)"
   ]
  },
  {
   "cell_type": "code",
   "execution_count": 9,
   "metadata": {},
   "outputs": [
    {
     "name": "stdout",
     "output_type": "stream",
     "text": [
      "[]\n",
      "32250\n"
     ]
    }
   ],
   "source": [
    "with open(all_coding_books_path, 'r') as f_open:\n",
    "    lines = len(f_open.readlines())\n",
    "    print(f_open.readlines())\n",
    "    \n",
    "print(lines)"
   ]
  },
  {
   "cell_type": "markdown",
   "metadata": {},
   "source": [
    "Problem: Using a loop, find which books \"recent_books\" and \"coding_books\" have in common (time how long it takes)."
   ]
  },
  {
   "cell_type": "code",
   "execution_count": 13,
   "metadata": {},
   "outputs": [
    {
     "name": "stdout",
     "output_type": "stream",
     "text": [
      "Execution time: 0.011967182159423828\n",
      "['8897482', '7955543', '6975356', '2009541', '8502866', '1715546', '1713507', '8255889', '2986045', '9193737', '7668560', '4976621', '7144292', '2439487', '7286871', '4281481', '4137576', '4993512', '4717544', '6964516', '4245126', '7401186', '8919160', '1264806', '2038925', '9180837', '6495493', '1258335', '1473766', '6977874', '7231742', '6445882', '6595167', '2989078', '2920394', '3264002', '6637024', '4580997', '3066256', '7356628', '3517640', '2442952', '9624309', '5205726', '4069963', '6005218', '6163266', '2462622', '7170269', '9443002', '7531095', '7201791', '7308127', '7286175', '7689591', '8558628', '9497646', '5353921', '5764540', '3783712', '2706358', '1962694', '8604850', '5890905', '9255617', '7804836', '2239694', '7804101', '7406586', '5406308', '2644909', '1900178', '4623179', '7148530', '9348635', '2645238', '3036263', '3290103', '6522620', '6889040', '3172199', '5766722', '3349989', '8873515', '1901264', '8196889', '7663370', '8879982', '6599509', '5951873', '1694425', '8819824', '8621688', '7852176', '4959393', '1219701']\n"
     ]
    }
   ],
   "source": [
    "# Starter code\n",
    "start = time.time() # This allows you to time the code\n",
    "\n",
    "\n",
    "\n",
    "\n",
    "# Your code here\n",
    "with open(recent_books_path, 'r') as f_open:\n",
    "    list1 = f_open.read().split(\"\\n\")\n",
    "with open(all_coding_books_path, 'r') as f_open:\n",
    "    list2 = f_open.read().split(\"\\n\")\n",
    "\n",
    "final_list = list(set(list1) & set(list2))\n",
    "#print(final_list)\n",
    "\n",
    "\n",
    "\n",
    "\n",
    "print(f\"Execution time: {time.time() - start}\") # This prints how long it took to run your code\n",
    "\n",
    "print(final_list)"
   ]
  },
  {
   "cell_type": "raw",
   "metadata": {},
   "source": []
  },
  {
   "cell_type": "markdown",
   "metadata": {},
   "source": [
    "Problem: Can you think of a way to make this code run faster? Anything YOU (emphaiss on you!!) can think of is fair game (time your code)."
   ]
  },
  {
   "cell_type": "code",
   "execution_count": 14,
   "metadata": {},
   "outputs": [
    {
     "name": "stdout",
     "output_type": "stream",
     "text": [
      "96\n",
      "Execution time: 0.0069811344146728516\n"
     ]
    }
   ],
   "source": [
    "start = time.time()\n",
    "\n",
    "\n",
    "\n",
    "# Your code here\n",
    "import threading\n",
    "\n",
    "exitFlag = 0\n",
    "\n",
    "class myThread (threading.Thread):\n",
    "   def __init__(self, threadID, name, counter, booklist):\n",
    "      threading.Thread.__init__(self)\n",
    "      self.threadID = threadID\n",
    "      self.name = name\n",
    "      self.counter = counter\n",
    "      self.booklist = booklist\n",
    "   def run(self):\n",
    "      with open(self.booklist, 'r') as f_open:\n",
    "        list1 = f_open.read().split(\"\\n\")\n",
    "\n",
    "# Create new threads\n",
    "thread1 = myThread(1, \"Thread-1\", 1, recent_books_path)\n",
    "thread2 = myThread(2, \"Thread-2\", 2, all_coding_books_path)\n",
    "\n",
    "# Start new Threads\n",
    "thread1.start()\n",
    "thread2.start()\n",
    "\n",
    "final_list = list(set(list1) & set(list2))\n",
    "print(len(final_list))\n",
    "#print(final_list)\n",
    "\n",
    "print(f\"Execution time: {time.time() - start}\")"
   ]
  },
  {
   "cell_type": "code",
   "execution_count": null,
   "metadata": {},
   "outputs": [],
   "source": []
  }
 ],
 "metadata": {
  "kernelspec": {
   "display_name": "Python 3",
   "language": "python",
   "name": "python3"
  },
  "language_info": {
   "codemirror_mode": {
    "name": "ipython",
    "version": 3
   },
   "file_extension": ".py",
   "mimetype": "text/x-python",
   "name": "python",
   "nbconvert_exporter": "python",
   "pygments_lexer": "ipython3",
   "version": "3.6.5"
  }
 },
 "nbformat": 4,
 "nbformat_minor": 2
}
