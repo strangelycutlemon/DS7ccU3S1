{
 "cells": [
  {
   "cell_type": "code",
   "execution_count": 1,
   "metadata": {},
   "outputs": [],
   "source": [
    "import time"
   ]
  },
  {
   "cell_type": "markdown",
   "metadata": {},
   "source": [
    "- There is a data dir which contains two txt files\n",
    "- Use your GoogleFu to figure out how to use Python to open these files \n",
    "- Save \"books_published \"books_published_last_two_years.txt\" in the variable \"recent_books\"\n",
    "- Save \"all_coding_books.txt\" in the variable \"coding_books\""
   ]
  },
  {
   "cell_type": "code",
   "execution_count": 21,
   "metadata": {},
   "outputs": [],
   "source": [
    "# Your code here\n",
    "\n",
    "import os\n",
    "notebook_path = os.path.abspath(\"CodeChallenge.ipynb\")\n",
    "recent_books_path = os.path.join(os.path.dirname(notebook_path), \"data\\\\books_published_last_two_years.txt\")\n",
    "all_coding_books_path = os.path.join(os.path.dirname(notebook_path), \"data\\\\all_coding_books.txt\")"
   ]
  },
  {
   "cell_type": "code",
   "execution_count": 22,
   "metadata": {},
   "outputs": [
    {
     "data": {
      "text/plain": [
       "'C:\\\\Users\\\\Cooper\\\\learning\\\\LS\\\\DS7ccU3S1\\\\data\\\\books_published_last_two_years.txt'"
      ]
     },
     "execution_count": 22,
     "metadata": {},
     "output_type": "execute_result"
    }
   ],
   "source": [
    "recent_books_path"
   ]
  },
  {
   "cell_type": "code",
   "execution_count": 23,
   "metadata": {},
   "outputs": [
    {
     "data": {
      "text/plain": [
       "'C:\\\\Users\\\\Cooper\\\\learning\\\\LS\\\\DS7ccU3S1\\\\data\\\\all_coding_books.txt'"
      ]
     },
     "execution_count": 23,
     "metadata": {},
     "output_type": "execute_result"
    }
   ],
   "source": [
    "all_coding_books_path"
   ]
  },
  {
   "cell_type": "code",
   "execution_count": 25,
   "metadata": {},
   "outputs": [],
   "source": [
    "with open(recent_books_path, 'r') as f_open:\n",
    "    recent_books = f_open.read()"
   ]
  },
  {
   "cell_type": "code",
   "execution_count": 29,
   "metadata": {},
   "outputs": [],
   "source": [
    "with open(all_coding_books_path, 'r') as f_open:\n",
    "    all_coding_books = f_open.read()"
   ]
  },
  {
   "cell_type": "markdown",
   "metadata": {},
   "source": [
    "Print how many books each file has"
   ]
  },
  {
   "cell_type": "code",
   "execution_count": 42,
   "metadata": {},
   "outputs": [
    {
     "name": "stdout",
     "output_type": "stream",
     "text": [
      "24158\n"
     ]
    }
   ],
   "source": [
    "with open(recent_books_path, 'r') as f_open:\n",
    "    lines = len(f_open.readlines())\n",
    "    \n",
    "print(lines)"
   ]
  },
  {
   "cell_type": "code",
   "execution_count": 46,
   "metadata": {},
   "outputs": [
    {
     "name": "stdout",
     "output_type": "stream",
     "text": [
      "[]\n",
      "32250\n"
     ]
    }
   ],
   "source": [
    "with open(all_coding_books_path, 'r') as f_open:\n",
    "    lines = len(f_open.readlines())\n",
    "    print(f_open.readlines())\n",
    "    \n",
    "print(lines)"
   ]
  },
  {
   "cell_type": "markdown",
   "metadata": {},
   "source": [
    "Problem: Using a loop, find which books \"recent_books\" and \"coding_books\" have in common (time how long it takes)."
   ]
  },
  {
   "cell_type": "code",
   "execution_count": 53,
   "metadata": {},
   "outputs": [
    {
     "name": "stdout",
     "output_type": "stream",
     "text": [
      "96\n",
      "Execution time: 0.010995626449584961\n",
      "['2439487', '7286175', '4069963', '8604850', '2645238', '7308127', '3290103', '2038925', '1900178', '8897482', '1694425', '1715546', '8255889', '8919160', '1713507', '7852176', '3517640', '7689591', '4281481', '7231742', '1219701', '9497646', '6522620', '9193737', '9443002', '9348635', '7144292', '1962694', '6637024', '4959393', '7148530', '2442952', '7201791', '4717544', '7804101', '7531095', '4976621', '5766722', '5205726', '4245126', '3783712', '9255617', '6975356', '3066256', '7170269', '7668560', '7663370', '1264806', '7286871', '7356628', '8819824', '4580997', '2009541', '5353921', '8879982', '6964516', '7955543', '7401186', '6889040', '1901264', '8621688', '9180837', '6599509', '5406308', '4137576', '8502866', '2462622', '3172199', '3264002', '3349989', '6977874', '6495493', '3036263', '4993512', '6445882', '2239694', '5890905', '5951873', '8873515', '2920394', '2986045', '2989078', '5764540', '7804836', '6595167', '2706358', '6005218', '8196889', '4623179', '2644909', '6163266', '8558628', '1473766', '9624309', '1258335', '7406586']\n"
     ]
    }
   ],
   "source": [
    "# Starter code\n",
    "start = time.time() # This allows you to time the code\n",
    "\n",
    "\n",
    "\n",
    "\n",
    "# Your code here\n",
    "with open(recent_books_path, 'r') as f_open:\n",
    "    list1 = f_open.read().split(\"\\n\")\n",
    "with open(all_coding_books_path, 'r') as f_open:\n",
    "    list2 = f_open.read().split(\"\\n\")\n",
    "\n",
    "final_list = list(set(list1) & set(list2))\n",
    "print(len(final_list))\n",
    "\n",
    "\n",
    "\n",
    "\n",
    "print(f\"Execution time: {time.time() - start}\") # This prints how long it took to run your code\n",
    "\n",
    "print(final_list)"
   ]
  },
  {
   "cell_type": "raw",
   "metadata": {},
   "source": []
  },
  {
   "cell_type": "markdown",
   "metadata": {},
   "source": [
    "Problem: Can you think of a way to make this code run faster? Anything YOU (emphaiss on you!!) can think of is fair game (time your code)."
   ]
  },
  {
   "cell_type": "code",
   "execution_count": null,
   "metadata": {},
   "outputs": [],
   "source": [
    "start = time.time()\n",
    "\n",
    "\n",
    "\n",
    "# Your code here\n",
    "\n",
    "\n",
    "\n",
    "print(f\"Execution time: {time.time() - start}\")"
   ]
  }
 ],
 "metadata": {
  "kernelspec": {
   "display_name": "Python 3",
   "language": "python",
   "name": "python3"
  },
  "language_info": {
   "codemirror_mode": {
    "name": "ipython",
    "version": 3
   },
   "file_extension": ".py",
   "mimetype": "text/x-python",
   "name": "python",
   "nbconvert_exporter": "python",
   "pygments_lexer": "ipython3",
   "version": "3.6.5"
  }
 },
 "nbformat": 4,
 "nbformat_minor": 2
}
